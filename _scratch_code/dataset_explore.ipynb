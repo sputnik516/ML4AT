{
 "cells": [
  {
   "cell_type": "code",
   "execution_count": 1,
   "metadata": {
    "collapsed": true
   },
   "outputs": [],
   "source": [
    "import pandas as pd\n",
    "import numpy as np\n",
    "import matplotlib.pyplot as plt\n",
    "import statsmodels.api as sm\n",
    "\n",
    "from numpy.random import randn, seed, standard_normal\n",
    "from Utils.NormalityTests import *"
   ]
  },
  {
   "cell_type": "code",
   "execution_count": 2,
   "outputs": [],
   "source": [
    "seed(1)\n",
    "randData_normal = standard_normal(10000)"
   ],
   "metadata": {
    "collapsed": false,
    "pycharm": {
     "name": "#%%\n"
    }
   }
  },
  {
   "cell_type": "code",
   "execution_count": 3,
   "outputs": [],
   "source": [
    "dataPth = [\"/home/alex/PycharmProjects/ML4AT/data/crypto/Token Data/Bitfinex/BTCUSD_5m_2021-06-06 00:00:00.pkl\",\n",
    "           \"/home/alex/PycharmProjects/ML4AT/data/crypto/Token Data/Bitfinex/ETHUSD_5m_2021-06-06 00:00:00.pkl\"]"
   ],
   "metadata": {
    "collapsed": false,
    "pycharm": {
     "name": "#%%\n"
    }
   }
  },
  {
   "cell_type": "code",
   "execution_count": 4,
   "outputs": [
    {
     "data": {
      "text/plain": "                       open         high     low        close     volume  \\\ntimestamp                                                                  \n2021-06-06 00:00:00  2628.2  2635.059487  2619.5  2620.500000  44.636621   \n2021-06-06 00:05:00  2619.9  2627.700000  2619.5  2621.276267   8.714203   \n2021-06-06 00:10:00  2620.3  2621.800000  2615.2  2615.200000  11.109171   \n2021-06-06 00:15:00  2615.2  2631.225743  2615.2  2625.900000  13.871272   \n2021-06-06 00:20:00  2625.0  2625.900000  2620.1  2621.700000  27.220626   \n\n                     averageOHLC  \ntimestamp                         \n2021-06-06 00:00:00  2625.814872  \n2021-06-06 00:05:00  2622.094067  \n2021-06-06 00:10:00  2618.125000  \n2021-06-06 00:15:00  2621.881436  \n2021-06-06 00:20:00  2623.175000  ",
      "text/html": "<div>\n<style scoped>\n    .dataframe tbody tr th:only-of-type {\n        vertical-align: middle;\n    }\n\n    .dataframe tbody tr th {\n        vertical-align: top;\n    }\n\n    .dataframe thead th {\n        text-align: right;\n    }\n</style>\n<table border=\"1\" class=\"dataframe\">\n  <thead>\n    <tr style=\"text-align: right;\">\n      <th></th>\n      <th>open</th>\n      <th>high</th>\n      <th>low</th>\n      <th>close</th>\n      <th>volume</th>\n      <th>averageOHLC</th>\n    </tr>\n    <tr>\n      <th>timestamp</th>\n      <th></th>\n      <th></th>\n      <th></th>\n      <th></th>\n      <th></th>\n      <th></th>\n    </tr>\n  </thead>\n  <tbody>\n    <tr>\n      <th>2021-06-06 00:00:00</th>\n      <td>2628.2</td>\n      <td>2635.059487</td>\n      <td>2619.5</td>\n      <td>2620.500000</td>\n      <td>44.636621</td>\n      <td>2625.814872</td>\n    </tr>\n    <tr>\n      <th>2021-06-06 00:05:00</th>\n      <td>2619.9</td>\n      <td>2627.700000</td>\n      <td>2619.5</td>\n      <td>2621.276267</td>\n      <td>8.714203</td>\n      <td>2622.094067</td>\n    </tr>\n    <tr>\n      <th>2021-06-06 00:10:00</th>\n      <td>2620.3</td>\n      <td>2621.800000</td>\n      <td>2615.2</td>\n      <td>2615.200000</td>\n      <td>11.109171</td>\n      <td>2618.125000</td>\n    </tr>\n    <tr>\n      <th>2021-06-06 00:15:00</th>\n      <td>2615.2</td>\n      <td>2631.225743</td>\n      <td>2615.2</td>\n      <td>2625.900000</td>\n      <td>13.871272</td>\n      <td>2621.881436</td>\n    </tr>\n    <tr>\n      <th>2021-06-06 00:20:00</th>\n      <td>2625.0</td>\n      <td>2625.900000</td>\n      <td>2620.1</td>\n      <td>2621.700000</td>\n      <td>27.220626</td>\n      <td>2623.175000</td>\n    </tr>\n  </tbody>\n</table>\n</div>"
     },
     "execution_count": 4,
     "metadata": {},
     "output_type": "execute_result"
    }
   ],
   "source": [
    "data = pd.read_pickle(dataPth[1])\n",
    "data.head()"
   ],
   "metadata": {
    "collapsed": false,
    "pycharm": {
     "name": "#%%\n"
    }
   }
  },
  {
   "cell_type": "code",
   "execution_count": 5,
   "outputs": [],
   "source": [
    "returns = data[\"averageOHLC\"].pct_change().dropna()"
   ],
   "metadata": {
    "collapsed": false,
    "pycharm": {
     "name": "#%%\n"
    }
   }
  },
  {
   "cell_type": "code",
   "execution_count": 6,
   "outputs": [
    {
     "data": {
      "text/plain": "count    325.000000\nmean       0.000187\nstd        0.001845\nmin       -0.006455\n25%       -0.000924\n50%        0.000119\n75%        0.001272\nmax        0.008272\nName: averageOHLC, dtype: float64"
     },
     "execution_count": 6,
     "metadata": {},
     "output_type": "execute_result"
    }
   ],
   "source": [
    "returns.describe()"
   ],
   "metadata": {
    "collapsed": false,
    "pycharm": {
     "name": "#%%\n"
    }
   }
  },
  {
   "cell_type": "code",
   "execution_count": 7,
   "outputs": [
    {
     "data": {
      "text/plain": "<AxesSubplot:xlabel='timestamp'>"
     },
     "execution_count": 7,
     "metadata": {},
     "output_type": "execute_result"
    },
    {
     "data": {
      "text/plain": "<Figure size 432x288 with 1 Axes>",
      "image/png": "[encoded data removed]"
     },
     "metadata": {
      "needs_background": "light"
     },
     "output_type": "display_data"
    }
   ],
   "source": [
    "returns.cumsum().plot()"
   ],
   "metadata": {
    "collapsed": false,
    "pycharm": {
     "name": "#%%\n"
    }
   }
  },
  {
   "cell_type": "markdown",
   "source": [
    "# Normality tests"
   ],
   "metadata": {
    "collapsed": false,
    "pycharm": {
     "name": "#%% md\n"
    }
   }
  },
  {
   "cell_type": "code",
   "execution_count": 8,
   "outputs": [
    {
     "name": "stderr",
     "output_type": "stream",
     "text": [
      "/home/alex/anaconda3/envs/zr39/lib/python3.9/site-packages/statsmodels/graphics/gofplots.py:993: UserWarning: marker is redundantly defined by the 'marker' keyword argument and the fmt string \"bo\" (-> marker='o'). The keyword argument will take precedence.\n",
      "  ax.plot(x, y, fmt, **plot_style)\n"
     ]
    },
    {
     "data": {
      "text/plain": "<Figure size 432x288 with 1 Axes>",
      "image/png": "[encoded data removed]"
     },
     "metadata": {
      "needs_background": "light"
     },
     "output_type": "display_data"
    }
   ],
   "source": [
    "qqplot_wrapper(returns)"
   ],
   "metadata": {
    "collapsed": false,
    "pycharm": {
     "name": "#%%\n"
    }
   }
  },
  {
   "cell_type": "code",
   "execution_count": 9,
   "outputs": [
    {
     "data": {
      "text/plain": "<Figure size 432x288 with 2 Axes>",
      "image/png": "[encoded data removed]"
     },
     "metadata": {
      "needs_background": "light"
     },
     "output_type": "display_data"
    }
   ],
   "source": [
    "histogram_data_vs_norm_wrapper(returns)"
   ],
   "metadata": {
    "collapsed": false,
    "pycharm": {
     "name": "#%%\n"
    }
   }
  },
  {
   "cell_type": "code",
   "execution_count": 10,
   "outputs": [
    {
     "name": "stdout",
     "output_type": "stream",
     "text": [
      "15.000: 0.569, data does not look normal (reject H0)\n",
      "10.000: 0.648, data does not look normal (reject H0)\n",
      "5.000: 0.778, data does not look normal (reject H0)\n",
      "2.500: 0.907, data does not look normal (reject H0)\n",
      "1.000: 1.079, data does not look normal (reject H0)\n",
      "Statistics=0.978, p=0.000\n",
      "Sample does not look Gaussian (reject H0)\n",
      "Statistics=22.789, p=0.000\n",
      "Sample does not look Gaussian (reject H0)\n",
      "15.000: 0.569, data does not look normal (reject H0)\n",
      "10.000: 0.648, data does not look normal (reject H0)\n",
      "5.000: 0.778, data does not look normal (reject H0)\n",
      "2.500: 0.907, data does not look normal (reject H0)\n",
      "1.000: 1.079, data does not look normal (reject H0)\n",
      "Kurtosis of the population from which the sample was drawn is NOT of the normal distribution (reject H0)\n",
      "Skewness of the population that the sample was drawn from is NOT the same as that of a corresponding normal distribution. (reject H0)\n",
      "Skew value: 0.35782731692808345; threshold: 0.2\n",
      "More weight in the left tail of the distribution\n"
     ]
    },
    {
     "data": {
      "text/plain": "[False, False, False, False, False, False]"
     },
     "execution_count": 10,
     "metadata": {},
     "output_type": "execute_result"
    }
   ],
   "source": [
    "norm_tests_list = [anderson_wrapper, shapiro_wrapper, dogostinos_wrapper, anderson_wrapper, kurtosistest_wrapper, skewtest_wrapper]\n",
    "res = []\n",
    "for norm_test in norm_tests_list:\n",
    "    res.append(norm_test(returns))\n",
    "res"
   ],
   "metadata": {
    "collapsed": false,
    "pycharm": {
     "name": "#%%\n"
    }
   }
  },
  {
   "cell_type": "markdown",
   "source": [
    "Returns don't appear normal..."
   ],
   "metadata": {
    "collapsed": false
   }
  },
  {
   "cell_type": "markdown",
   "source": [
    "Try other transformations"
   ],
   "metadata": {
    "collapsed": false
   }
  },
  {
   "cell_type": "code",
   "execution_count": 11,
   "outputs": [
    {
     "data": {
      "text/plain": "timestamp\n2021-06-06 00:05:00   -3.720805\n2021-06-06 00:10:00   -3.969067\n2021-06-06 00:15:00    3.756436\n2021-06-06 00:20:00    1.293564\n2021-06-06 00:25:00    6.603687\nName: averageOHLC, dtype: float64"
     },
     "execution_count": 11,
     "metadata": {},
     "output_type": "execute_result"
    }
   ],
   "source": [
    "diff1 = data[\"averageOHLC\"].diff().dropna()\n",
    "diff1.head()"
   ],
   "metadata": {
    "collapsed": false,
    "pycharm": {
     "name": "#%%\n"
    }
   }
  },
  {
   "cell_type": "code",
   "execution_count": 12,
   "outputs": [
    {
     "name": "stdout",
     "output_type": "stream",
     "text": [
      "15.000: 0.569, data does not look normal (reject H0)\n",
      "10.000: 0.648, data does not look normal (reject H0)\n",
      "5.000: 0.778, data does not look normal (reject H0)\n",
      "2.500: 0.907, data does not look normal (reject H0)\n",
      "1.000: 1.079, data does not look normal (reject H0)\n",
      "Statistics=0.978, p=0.000\n",
      "Sample does not look Gaussian (reject H0)\n",
      "Statistics=23.139, p=0.000\n",
      "Sample does not look Gaussian (reject H0)\n",
      "15.000: 0.569, data does not look normal (reject H0)\n",
      "10.000: 0.648, data does not look normal (reject H0)\n",
      "5.000: 0.778, data does not look normal (reject H0)\n",
      "2.500: 0.907, data does not look normal (reject H0)\n",
      "1.000: 1.079, data does not look normal (reject H0)\n",
      "Kurtosis of the population from which the sample was drawn is NOT of the normal distribution (reject H0)\n",
      "Skewness of the population that the sample was drawn from is NOT the same as that of a corresponding normal distribution. (reject H0)\n",
      "Skew value: 0.36127457167618443; threshold: 0.2\n",
      "More weight in the left tail of the distribution\n"
     ]
    },
    {
     "data": {
      "text/plain": "[False, False, False, False, False, False]"
     },
     "execution_count": 12,
     "metadata": {},
     "output_type": "execute_result"
    }
   ],
   "source": [
    "res = []\n",
    "for norm_test in norm_tests_list:\n",
    "    res.append(norm_test(diff1))\n",
    "res"
   ],
   "metadata": {
    "collapsed": false,
    "pycharm": {
     "name": "#%%\n"
    }
   }
  },
  {
   "cell_type": "markdown",
   "source": [
    "This seems to correct the skew"
   ],
   "metadata": {
    "collapsed": false,
    "pycharm": {
     "name": "#%% md\n"
    }
   }
  },
  {
   "cell_type": "markdown",
   "source": [
    "Using Scikit pipeline"
   ],
   "metadata": {
    "collapsed": false,
    "pycharm": {
     "name": "#%% md\n"
    }
   }
  },
  {
   "cell_type": "code",
   "execution_count": 13,
   "outputs": [],
   "source": [
    "from sklearn.preprocessing import PowerTransformer, KBinsDiscretizer"
   ],
   "metadata": {
    "collapsed": false,
    "pycharm": {
     "name": "#%%\n"
    }
   }
  },
  {
   "cell_type": "code",
   "execution_count": 14,
   "outputs": [
    {
     "name": "stdout",
     "output_type": "stream",
     "text": [
      "15.000: 0.569, data does not look normal (reject H0)\n",
      "10.000: 0.648, data does not look normal (reject H0)\n",
      "5.000: 0.778, data does not look normal (reject H0)\n",
      "2.500: 0.907, data does not look normal (reject H0)\n",
      "1.000: 1.079, data does not look normal (reject H0)\n",
      "Statistics=0.983, p=0.001\n",
      "Sample does not look Gaussian (reject H0)\n",
      "Statistics=13.944, p=0.001\n",
      "Sample does not look Gaussian (reject H0)\n",
      "15.000: 0.569, data does not look normal (reject H0)\n",
      "10.000: 0.648, data does not look normal (reject H0)\n",
      "5.000: 0.778, data does not look normal (reject H0)\n",
      "2.500: 0.907, data does not look normal (reject H0)\n",
      "1.000: 1.079, data does not look normal (reject H0)\n",
      "Kurtosis of the population from which the sample was drawn is NOT of the normal distribution (reject H0)\n",
      "Skewness of the population that the sample was drawn from is the same as that of a corresponding normal distribution. (fail to reject H0)\n",
      "Skew value: -0.03753187219006577; threshold: 0.2\n",
      "Distribution is approximately symmetric\n"
     ]
    },
    {
     "data": {
      "text/plain": "[False, False, False, False, False, True]"
     },
     "execution_count": 14,
     "metadata": {},
     "output_type": "execute_result"
    }
   ],
   "source": [
    "pt = PowerTransformer()\n",
    "X = pt.fit_transform(np.array(returns).reshape(-1,1))[:,0]\n",
    "res = []\n",
    "for norm_test in norm_tests_list:\n",
    "    res.append(norm_test(X))\n",
    "res"
   ],
   "metadata": {
    "collapsed": false,
    "pycharm": {
     "name": "#%%\n"
    }
   }
  },
  {
   "cell_type": "code",
   "execution_count": 57,
   "outputs": [
    {
     "data": {
      "text/plain": "<AxesSubplot:>"
     },
     "execution_count": 57,
     "metadata": {},
     "output_type": "execute_result"
    },
    {
     "data": {
      "text/plain": "<Figure size 432x288 with 1 Axes>",
      "image/png": "[encoded data removed]"
     },
     "metadata": {
      "needs_background": "light"
     },
     "output_type": "display_data"
    }
   ],
   "source": [
    "# Reverse the Yeo transform\n",
    "pd.DataFrame(pt.inverse_transform(X.reshape(-1, 1))).add(1).cumprod().plot()"
   ],
   "metadata": {
    "collapsed": false,
    "pycharm": {
     "name": "#%%\n"
    }
   }
  },
  {
   "cell_type": "markdown",
   "source": [
    "ACF/PACF"
   ],
   "metadata": {
    "collapsed": false,
    "pycharm": {
     "name": "#%% md\n"
    }
   }
  },
  {
   "cell_type": "code",
   "execution_count": 75,
   "outputs": [
    {
     "data": {
      "text/plain": "<Figure size 432x288 with 1 Axes>",
      "image/png": "[encoded data removed]"
     },
     "metadata": {
      "needs_background": "light"
     },
     "output_type": "display_data"
    }
   ],
   "source": [
    "sm.graphics.tsa.plot_acf(returns.values.squeeze(), lags=40)\n",
    "plt.show()"
   ],
   "metadata": {
    "collapsed": false,
    "pycharm": {
     "name": "#%%\n"
    }
   }
  },
  {
   "cell_type": "code",
   "execution_count": 77,
   "outputs": [
    {
     "data": {
      "text/plain": "<Figure size 432x288 with 1 Axes>",
      "image/png": "[encoded data removed]"
     },
     "metadata": {
      "needs_background": "light"
     },
     "output_type": "display_data"
    }
   ],
   "source": [
    "sm.graphics.tsa.plot_pacf(returns.values.squeeze())\n",
    "plt.show()"
   ],
   "metadata": {
    "collapsed": false,
    "pycharm": {
     "name": "#%%\n"
    }
   }
  }
 ],
 "metadata": {
  "kernelspec": {
   "display_name": "Python 3",
   "language": "python",
   "name": "python3"
  },
  "language_info": {
   "codemirror_mode": {
    "name": "ipython",
    "version": 2
   },
   "file_extension": ".py",
   "mimetype": "text/x-python",
   "name": "python",
   "nbconvert_exporter": "python",
   "pygments_lexer": "ipython2",
   "version": "2.7.6"
  }
 },
 "nbformat": 4,
 "nbformat_minor": 0
}